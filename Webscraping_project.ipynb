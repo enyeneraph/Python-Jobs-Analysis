{
  "nbformat": 4,
  "nbformat_minor": 0,
  "metadata": {
    "colab": {
      "name": "Webscraping_project.ipynb",
      "provenance": [],
      "collapsed_sections": [],
      "authorship_tag": "ABX9TyP8FtfSrKWhCWOThbYmmUqG",
      "include_colab_link": true
    },
    "kernelspec": {
      "name": "python3",
      "display_name": "Python 3"
    },
    "language_info": {
      "name": "python"
    }
  },
  "cells": [
    {
      "cell_type": "markdown",
      "metadata": {
        "id": "view-in-github",
        "colab_type": "text"
      },
      "source": [
        "<a href=\"https://colab.research.google.com/github/enyeneraph/Python-Jobs-Analysis/blob/main/Webscraping_project.ipynb\" target=\"_parent\"><img src=\"https://colab.research.google.com/assets/colab-badge.svg\" alt=\"Open In Colab\"/></a>"
      ]
    },
    {
      "cell_type": "markdown",
      "metadata": {
        "id": "-UiVc29L0m2h"
      },
      "source": [
        "Importing the necessary libraries"
      ]
    },
    {
      "cell_type": "code",
      "metadata": {
        "id": "scPwnLJz0D7_"
      },
      "source": [
        "import requests\n",
        "from html.parser import HTMLParser\n",
        "import re"
      ],
      "execution_count": 1,
      "outputs": []
    },
    {
      "cell_type": "code",
      "metadata": {
        "id": "8F32h9s3WH5G"
      },
      "source": [
        "class JobDetailsParser(HTMLParser):\n",
        "  class_list = list()\n",
        "  \n",
        "  ''' This class extracts details such as job title, company name, \n",
        "  location, category, date posted as well as job description from \n",
        "  each page opened. '''\n",
        "\n",
        "  def __init__(self):\n",
        "    self.ress = list()\n",
        "    self.job_data = False\n",
        "    self.extract_jobdetails = False\n",
        "    self.company_details = False\n",
        "    self.extract_jobtitle = False\n",
        "    self.extract_companyname = False\n",
        "    self.extract_location = False\n",
        "    self.extract_category = False\n",
        "    self.extract_type = False\n",
        "    self.extract_time = False\n",
        "    self.extract_urls = False\n",
        "    self.extract_nextpage = False\n",
        "    self.page_urls = list()\n",
        "    super().__init__()\n",
        "\n",
        "\n",
        "  def handle_starttag(self, tag, attrs):\n",
        "  #accessing the list of jobs\n",
        "    if ('class', 'list-recent-jobs list-row-container menu') in attrs:\n",
        "      self.job_data = True\n",
        "    elif self.job_data  and tag == 'li':\n",
        "      self.extract_jobdetails = True\n",
        "      self.perjob_list = list()\n",
        "\n",
        "    #jobtitle and company name\n",
        "    elif self.extract_jobdetails and ('class', 'listing-company-name') in attrs:\n",
        "      self.company_details = True\n",
        "    elif tag == 'a' and self.company_details:\n",
        "      self.extract_jobtitle = True\n",
        "      self.extract_companyname = True\n",
        "    #location\n",
        "    elif ('class', 'listing-location') in attrs:\n",
        "      self.extract_location = True\n",
        "    #type\n",
        "    elif self.extract_jobdetails and ('class', 'listing-job-type') in attrs:\n",
        "      self.extract_type = True\n",
        "      self.type_str = ''\n",
        "    #category\n",
        "    elif ('class', 'listing-company-category') in attrs:\n",
        "      self.extract_category = True\n",
        "    #time\n",
        "    elif tag == 'time':\n",
        "      self.extract_time = True\n",
        "    #nextpage\n",
        "    elif ('class', 'pagination menu') in attrs:\n",
        "      self.extract_urls = True\n",
        "    elif self.extract_urls:\n",
        "      a = attrs[-1][1]\n",
        "      self.page_urls.append('https://www.python.org/jobs/' + a)\n",
        "      # print(self.page_urls)\n",
        "\n",
        "  def handle_endtag(self, tag):\n",
        "    #type\n",
        "    if self.extract_type and tag == 'span':\n",
        "      self.extract_type = False\n",
        "    #nextpage\n",
        "    elif self.extract_urls and tag == 'ul':\n",
        "      self.extract_urls = False\n",
        "      self.next_page_url = self.page_urls[-1]\n",
        "\n",
        "  \n",
        "  def handle_data(self, data):\n",
        "    data = data.strip()\n",
        "    #job title\n",
        "    if self.extract_jobtitle and data != '':\n",
        "      self.extract_jobtitle = False\n",
        "      self.perjob_list.append(data)\n",
        "      \n",
        "    #companyname\n",
        "    elif self.extract_companyname and data != '':\n",
        "      self.perjob_list.append(data)\n",
        "      self.extract_companyname = False\n",
        "      self.company_details = False\n",
        "\n",
        "    #location\n",
        "    elif self.extract_location and data != '':\n",
        "      self.perjob_list.append(data)\n",
        "      self.extract_location = False\n",
        "\n",
        "    #type\n",
        "    elif self.extract_type and data != '':\n",
        "      self.type_str += data\n",
        "\n",
        "    #time\n",
        "    elif self.extract_time and data!= '':\n",
        "      self.perjob_list.append(data)\n",
        "      self.extract_time = False\n",
        "    \n",
        "    # category\n",
        "    elif self.extract_category and data != '':\n",
        "      self.perjob_list.extend((self.type_str, data))\n",
        "      self.class_list.append(self.perjob_list)\n",
        "      self.extract_category = False\n",
        "    \n",
        "    #nextpage\n",
        "    elif self.extract_urls and data == 'Next':\n",
        "      self.extract_nextpage = True\n",
        "\n"
      ],
      "execution_count": 2,
      "outputs": []
    },
    {
      "cell_type": "code",
      "metadata": {
        "id": "al60cel-DuPu"
      },
      "source": [
        "list_of_list = list()"
      ],
      "execution_count": 3,
      "outputs": []
    },
    {
      "cell_type": "code",
      "metadata": {
        "id": "NoC6OKRGCha1"
      },
      "source": [
        "def function_(url):\n",
        "  '''a recursive fuction that opens a url, calls the JobDetailsParser class,  \n",
        "  processes jobs, extracts the url for the next page and calls itself  \n",
        "  with the new next page url'''\n",
        "\n",
        "  text = requests.get(url).text\n",
        "  parser = JobDetailsParser()\n",
        "  parser.feed(text)\n",
        "  list_of_list = parser.class_list\n",
        "  next_page_url =  parser.next_page_url\n",
        "  if  next_page_url != 'https://www.python.org/jobs/':\n",
        "    function_(next_page_url)\n",
        "  return list_of_list\n",
        "\n"
      ],
      "execution_count": 4,
      "outputs": []
    },
    {
      "cell_type": "code",
      "metadata": {
        "id": "ckXAnYV-MSck"
      },
      "source": [
        "#run this only once.\n",
        "jobs_list = function_('https://www.python.org/jobs/')"
      ],
      "execution_count": 5,
      "outputs": []
    },
    {
      "cell_type": "code",
      "metadata": {
        "colab": {
          "base_uri": "https://localhost:8080/"
        },
        "id": "AYKjqnfOjZJK",
        "outputId": "1a5c5343-3525-4667-9bef-946408c0c429"
      },
      "source": [
        "len(jobs_list)"
      ],
      "execution_count": 6,
      "outputs": [
        {
          "output_type": "execute_result",
          "data": {
            "text/plain": [
              "151"
            ]
          },
          "metadata": {},
          "execution_count": 6
        }
      ]
    },
    {
      "cell_type": "code",
      "metadata": {
        "id": "dKLlFzpzqq0o"
      },
      "source": [
        "#converting the lists of jobs and their descriptions  to a dataframe\n",
        "import pandas as pd\n",
        "columns = ('Job_Title', 'Company', 'Location', 'Date_Posted', 'Looking_for','Category')\n",
        "df = pd.DataFrame(jobs_list, columns=columns)\n",
        " "
      ],
      "execution_count": 7,
      "outputs": []
    },
    {
      "cell_type": "code",
      "metadata": {
        "colab": {
          "base_uri": "https://localhost:8080/",
          "height": 206
        },
        "id": "LH4ccLDOjqnY",
        "outputId": "684d8376-c9bb-4870-cd51-c7fee3606946"
      },
      "source": [
        "df.head()"
      ],
      "execution_count": 8,
      "outputs": [
        {
          "output_type": "execute_result",
          "data": {
            "text/html": [
              "<div>\n",
              "<style scoped>\n",
              "    .dataframe tbody tr th:only-of-type {\n",
              "        vertical-align: middle;\n",
              "    }\n",
              "\n",
              "    .dataframe tbody tr th {\n",
              "        vertical-align: top;\n",
              "    }\n",
              "\n",
              "    .dataframe thead th {\n",
              "        text-align: right;\n",
              "    }\n",
              "</style>\n",
              "<table border=\"1\" class=\"dataframe\">\n",
              "  <thead>\n",
              "    <tr style=\"text-align: right;\">\n",
              "      <th></th>\n",
              "      <th>Job_Title</th>\n",
              "      <th>Company</th>\n",
              "      <th>Location</th>\n",
              "      <th>Date_Posted</th>\n",
              "      <th>Looking_for</th>\n",
              "      <th>Category</th>\n",
              "    </tr>\n",
              "  </thead>\n",
              "  <tbody>\n",
              "    <tr>\n",
              "      <th>0</th>\n",
              "      <td>Senior Backend Developer</td>\n",
              "      <td>Cashlink</td>\n",
              "      <td>Remote-First (people are around Frankfurt/Berl...</td>\n",
              "      <td>20 November 2021</td>\n",
              "      <td>Back end,Database,Web, Django, Postgres, Docke...</td>\n",
              "      <td>Developer / Engineer</td>\n",
              "    </tr>\n",
              "    <tr>\n",
              "      <th>1</th>\n",
              "      <td>Sr. Python Developer</td>\n",
              "      <td>CGI</td>\n",
              "      <td>Waterville, Maine, USA</td>\n",
              "      <td>18 November 2021</td>\n",
              "      <td></td>\n",
              "      <td>Developer / Engineer</td>\n",
              "    </tr>\n",
              "    <tr>\n",
              "      <th>2</th>\n",
              "      <td>Python Engineer</td>\n",
              "      <td>DevsData</td>\n",
              "      <td>Warsaw, Partly Remote, Poland</td>\n",
              "      <td>18 November 2021</td>\n",
              "      <td>Back end,Cloud, Python, AWS, Docker</td>\n",
              "      <td>Developer / Engineer</td>\n",
              "    </tr>\n",
              "    <tr>\n",
              "      <th>3</th>\n",
              "      <td>Backend Engineer (Remote)</td>\n",
              "      <td>PolicyFly</td>\n",
              "      <td>Remote, United States</td>\n",
              "      <td>17 November 2021</td>\n",
              "      <td>Back end,Big Data,Cloud,Database,Integration, ...</td>\n",
              "      <td>Developer / Engineer</td>\n",
              "    </tr>\n",
              "    <tr>\n",
              "      <th>4</th>\n",
              "      <td>Software Developer – Data Engineering</td>\n",
              "      <td>Digital Science</td>\n",
              "      <td>Europe, Europe</td>\n",
              "      <td>17 November 2021</td>\n",
              "      <td>Big Data,Cloud,Database,Machine Learning,Text ...</td>\n",
              "      <td>Developer / Engineer</td>\n",
              "    </tr>\n",
              "  </tbody>\n",
              "</table>\n",
              "</div>"
            ],
            "text/plain": [
              "                               Job_Title  ...              Category\n",
              "0               Senior Backend Developer  ...  Developer / Engineer\n",
              "1                   Sr. Python Developer  ...  Developer / Engineer\n",
              "2                        Python Engineer  ...  Developer / Engineer\n",
              "3              Backend Engineer (Remote)  ...  Developer / Engineer\n",
              "4  Software Developer – Data Engineering  ...  Developer / Engineer\n",
              "\n",
              "[5 rows x 6 columns]"
            ]
          },
          "metadata": {},
          "execution_count": 8
        }
      ]
    },
    {
      "cell_type": "code",
      "metadata": {
        "id": "qDrw7W7JBYpo"
      },
      "source": [
        "#converting from DataFrame to csv\n",
        "from google.colab import files\n",
        "df.to_csv('pythonjobs.csv', index=False) \n",
        "files.download('pythonjobs.csv')\n"
      ],
      "execution_count": 9,
      "outputs": []
    }
  ]
}