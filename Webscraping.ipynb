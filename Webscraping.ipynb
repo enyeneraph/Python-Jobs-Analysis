{
  "nbformat": 4,
  "nbformat_minor": 0,
  "metadata": {
    "colab": {
      "name": "Webscraping.ipynb",
      "provenance": [],
      "collapsed_sections": [],
      "authorship_tag": "ABX9TyPekbjmf+WmheE13Sax7Fz/",
      "include_colab_link": true
    },
    "kernelspec": {
      "name": "python3",
      "display_name": "Python 3"
    },
    "language_info": {
      "name": "python"
    }
  },
  "cells": [
    {
      "cell_type": "markdown",
      "metadata": {
        "id": "view-in-github",
        "colab_type": "text"
      },
      "source": [
        "<a href=\"https://colab.research.google.com/github/enyeneraph/Python-Jobs-Analysis/blob/main/Webscraping.ipynb\" target=\"_parent\"><img src=\"https://colab.research.google.com/assets/colab-badge.svg\" alt=\"Open In Colab\"/></a>"
      ]
    },
    {
      "cell_type": "markdown",
      "metadata": {
        "id": "-UiVc29L0m2h"
      },
      "source": [
        "Importing the necessary libraries"
      ]
    },
    {
      "cell_type": "code",
      "metadata": {
        "id": "scPwnLJz0D7_"
      },
      "source": [
        "import requests\n",
        "from html.parser import HTMLParser\n",
        "import re"
      ],
      "execution_count": null,
      "outputs": []
    },
    {
      "cell_type": "code",
      "metadata": {
        "id": "o_DqaQx9nmbF"
      },
      "source": [
        "#function to help search for dynamic attributes.\n",
        "def a_href(word,tag, attrs, tag_check = 'a'):\n",
        "  if tag == tag_check:\n",
        "    for i in attrs:\n",
        "      x = re.search(str(('href', word)), str(i))\n",
        "      if x:\n",
        "        return x.groups()"
      ],
      "execution_count": null,
      "outputs": []
    },
    {
      "cell_type": "code",
      "metadata": {
        "id": "cVfdjrQfg8yf"
      },
      "source": [
        "\n",
        "class JobDetailsParser(HTMLParser):\n",
        "  \n",
        "  ''' This class extracts details such as job title, company name, \n",
        "  location, category, date posted as well as job description from \n",
        "  each page opened. '''\n",
        "\n",
        "  \n",
        "  def __init__(self):\n",
        "    self.ress = list()\n",
        "    self.job_title = False\n",
        "    self.category = False\n",
        "    self.location = False\n",
        "    self.req = False\n",
        "    self.date = False\n",
        "    self.h2 = False\n",
        "    self.company_details = False\n",
        "    self.company_name = False\n",
        "    self.handle_req = False\n",
        "    self.job_type = False\n",
        "    self.req_str = \"\"\n",
        "    self.type_str = \"\"\n",
        "    super().__init__()\n",
        "  \n",
        "  def handle_starttag(self, tag, attrs):\n",
        "\n",
        "    #job title: parent + sibling tag\n",
        "    if (tag == 'span' and ('class', 'listing-company-name') in attrs): #parent tag\n",
        "      self.company_details = True \n",
        "      self.job_title = True\n",
        "    elif tag == 'span' and ('class', 'listing-new') in attrs: #sibling tag\n",
        "      self.job_title = False\n",
        "    #job location: parent tag\n",
        "    elif (tag == 'span' and ('class', 'listing-location') in  attrs): \n",
        "      self.location = True  \n",
        "    #job category: parent tag\n",
        "    elif tag == 'span' and ('class', 'listing-company-category') in attrs:\n",
        "      self.category = True\n",
        "    #requirements\n",
        "    elif tag == 'h2':\n",
        "      self.h2 = True\n",
        "    #type\n",
        "    elif tag == 'span' and ('class', 'listing-job-type') in attrs:\n",
        "      self.job_type = True\n",
        "    #date\n",
        "    self.date = tag == 'time'\n",
        "  \n",
        "  def handle_endtag(self, tag):\n",
        "    #jobtitle\n",
        "    if self.job_title and tag == 'span':\n",
        "      self.job_title = False\n",
        "    #location\n",
        "    elif self.location:\n",
        "      self.location = False\n",
        "    #category\n",
        "    elif self.category:\n",
        "      self.category = False\n",
        "    #date\n",
        "    elif self.date:\n",
        "      self.date = False\n",
        "    #type\n",
        "    elif self.job_type and tag == 'span':\n",
        "      self.job_type = False\n",
        "    #company_name\n",
        "    elif tag == 'br' and self.company_details:\n",
        "      self.company_name = True\n",
        "    elif tag == 'span' and self.company_name:\n",
        "      self.company_name, self.company_details = False, False\n",
        "    #requirements\n",
        "    elif self.req and tag in ['ul', 'ol', 'dl']:\n",
        "      self.req = False\n",
        " \n",
        "  \n",
        "  def handle_data(self,data):\n",
        "    #job title\n",
        "    if self.job_title and data.strip() != '':\n",
        "      self.ress.append(data.strip())\n",
        "    #location\n",
        "    elif self.location and data.strip() != '':\n",
        "      self.ress.append(data.strip())\n",
        "    #category\n",
        "    elif self.category and data.strip() != '':\n",
        "      self.ress.append(data.strip())\n",
        "      self.ress.append(self.type_str) \n",
        "      self.ress.append(self.req_str) #to keep requirements which is text heavy as the last item\n",
        "\n",
        "    #date\n",
        "    elif self.date and data.strip() != '':\n",
        "      self.ress.append(data.strip())\n",
        "    #type\n",
        "    elif self.job_type and data.strip() not in ('', ):\n",
        "      self.type_str += data.strip() #joining all data from types together to make a string \n",
        "\n",
        "    # #company_name\n",
        "    elif self.company_name and data.strip() != '':\n",
        "      self.ress.append(data.strip())\n",
        "    #requirements\n",
        "    elif self.h2 and data.strip() == 'Requirements':\n",
        "      self.req = True\n",
        "    elif self.req and data.strip() != '':\n",
        "      self.req_str += data.strip()\n",
        "\n",
        "  def return_ress(self):\n",
        "    return self.ress "
      ],
      "execution_count": null,
      "outputs": []
    },
    {
      "cell_type": "code",
      "metadata": {
        "id": "xX2enM8wlU26"
      },
      "source": [
        "text = requests.get('https://www.python.org/jobs/').text"
      ],
      "execution_count": null,
      "outputs": []
    },
    {
      "cell_type": "code",
      "metadata": {
        "colab": {
          "base_uri": "https://localhost:8080/"
        },
        "id": "C5WwJT4CrpY_",
        "outputId": "eacafd37-92ce-4308-bf89-95ee6ea54edd"
      },
      "source": [
        "#this operation should be run only once.\n",
        "parser = JobListParser()\n",
        "parser.feed(text)\n",
        "lists_ = parser.list_of_list\n",
        "len(lists_)"
      ],
      "execution_count": null,
      "outputs": [
        {
          "output_type": "execute_result",
          "data": {
            "text/plain": [
              "157"
            ]
          },
          "metadata": {},
          "execution_count": 12
        }
      ]
    },
    {
      "cell_type": "code",
      "metadata": {
        "id": "dKLlFzpzqq0o"
      },
      "source": [
        "#converting the lists of jobs and their descriptions  to a dataframe\n",
        "import pandas as pd\n",
        "columns = ('Job_Title', 'Company', 'Location', 'Date_Posted', 'Category', 'Looking_for', 'Description')\n",
        "df = pd.DataFrame(lists_, columns=columns)\n",
        " "
      ],
      "execution_count": null,
      "outputs": []
    },
    {
      "cell_type": "code",
      "metadata": {
        "colab": {
          "base_uri": "https://localhost:8080/",
          "height": 17
        },
        "id": "qDrw7W7JBYpo",
        "outputId": "88efbf61-2ee6-47e0-f896-00b49d2932a0"
      },
      "source": [
        "#converting the dataframe to a csv file.\n",
        "from google.colab import files\n",
        "df.to_csv('pythonjobs.csv', index=False) \n",
        "files.download('pythonjobs.csv')\n"
      ],
      "execution_count": null,
      "outputs": [
        {
          "output_type": "display_data",
          "data": {
            "application/javascript": [
              "\n",
              "    async function download(id, filename, size) {\n",
              "      if (!google.colab.kernel.accessAllowed) {\n",
              "        return;\n",
              "      }\n",
              "      const div = document.createElement('div');\n",
              "      const label = document.createElement('label');\n",
              "      label.textContent = `Downloading \"${filename}\": `;\n",
              "      div.appendChild(label);\n",
              "      const progress = document.createElement('progress');\n",
              "      progress.max = size;\n",
              "      div.appendChild(progress);\n",
              "      document.body.appendChild(div);\n",
              "\n",
              "      const buffers = [];\n",
              "      let downloaded = 0;\n",
              "\n",
              "      const channel = await google.colab.kernel.comms.open(id);\n",
              "      // Send a message to notify the kernel that we're ready.\n",
              "      channel.send({})\n",
              "\n",
              "      for await (const message of channel.messages) {\n",
              "        // Send a message to notify the kernel that we're ready.\n",
              "        channel.send({})\n",
              "        if (message.buffers) {\n",
              "          for (const buffer of message.buffers) {\n",
              "            buffers.push(buffer);\n",
              "            downloaded += buffer.byteLength;\n",
              "            progress.value = downloaded;\n",
              "          }\n",
              "        }\n",
              "      }\n",
              "      const blob = new Blob(buffers, {type: 'application/binary'});\n",
              "      const a = document.createElement('a');\n",
              "      a.href = window.URL.createObjectURL(blob);\n",
              "      a.download = filename;\n",
              "      div.appendChild(a);\n",
              "      a.click();\n",
              "      div.remove();\n",
              "    }\n",
              "  "
            ],
            "text/plain": [
              "<IPython.core.display.Javascript object>"
            ]
          },
          "metadata": {}
        },
        {
          "output_type": "display_data",
          "data": {
            "application/javascript": [
              "download(\"download_804f8c94-1b64-44db-80b0-e279ee28f8d7\", \"pythonjobs.csv\", 113055)"
            ],
            "text/plain": [
              "<IPython.core.display.Javascript object>"
            ]
          },
          "metadata": {}
        }
      ]
    }
  ]
}